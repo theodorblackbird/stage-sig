{
 "cells": [
  {
   "cell_type": "markdown",
   "id": "overall-outdoors",
   "metadata": {},
   "source": [
    "# Noyau signature vs Signature"
   ]
  },
  {
   "cell_type": "code",
   "execution_count": 4,
   "id": "special-cardiff",
   "metadata": {},
   "outputs": [],
   "source": [
    "import iisignature as iis\n",
    "import numpy as np\n",
    "import time"
   ]
  },
  {
   "cell_type": "code",
   "execution_count": 5,
   "id": "chronic-poster",
   "metadata": {},
   "outputs": [],
   "source": [
    "m = 7\n",
    "series = np.random.rand(10, 20, 3)\n",
    "true_graam = np.zeros((10, 10))"
   ]
  },
  {
   "cell_type": "code",
   "execution_count": 6,
   "id": "surrounded-collector",
   "metadata": {},
   "outputs": [],
   "source": [
    "def k(x,y):\n",
    "    return x@y.T"
   ]
  },
  {
   "cell_type": "markdown",
   "id": "premier-commissioner",
   "metadata": {},
   "source": [
    "## Algorithmes\n",
    "L'algorithme du premier ordre approxime la signature avec des différences finis. \n",
    "\n",
    "$\\displaystyle \\prod_{i =1}^{l-1} \\nabla k_{x_i} \\simeq (\\int dk_ {x}^{\\otimes m} )_{m \\geq 0}$\n",
    "\n",
    "Qui est à la base de la signature discrétisée $S^+$\n",
    "\n",
    "L'algorithme aux ordres suivants est une généralisation aux tenseurs d'ordres supérieurs : \n",
    "$\\displaystyle \\prod_{i =1}^{l-1} \\sum_{j=0}^{d} \\frac{(\\nabla k_{x_i})^{\\otimes j }}{j!} \\simeq (\\int dk_ {x}^{\\otimes m} )_{m \\geq 0}$\n",
    "\n",
    "\n"
   ]
  },
  {
   "cell_type": "code",
   "execution_count": 7,
   "id": "official-painting",
   "metadata": {},
   "outputs": [],
   "source": [
    "def signature_kernel_first_order(a,b,m):\n",
    "    K = a@b.T\n",
    "    K = np.diff(np.diff(K, axis=0), axis=1)\n",
    "    A = np.copy(K)\n",
    "    for i in range(1,m):\n",
    "        Q = np.cumsum(np.cumsum(A, axis=0), axis=1)\n",
    "        Q = np.roll(np.roll(Q, 1, axis=0), 1, axis=1) \n",
    "        Q[:, 0] = 0\n",
    "        Q[0, :] = 0\n",
    "        A = K * (1 + Q)\n",
    "    return 1 + np.sum(np.sum(A, axis=1), axis=0)"
   ]
  },
  {
   "cell_type": "code",
   "execution_count": 8,
   "id": "distinct-appeal",
   "metadata": {},
   "outputs": [],
   "source": [
    "def signature_kernel_higher_order(a,b,m,o):\n",
    "    K = a@b.T\n",
    "    K = np.diff(np.diff(K, axis=0), axis=1)\n",
    "    A = np.zeros((m+1, o+1, o+1, len(a)-1, len(b)-1))\n",
    "    \n",
    "    for n in range(1,m+1):\n",
    "        d = min(o+1, n)\n",
    "        \n",
    "        Q = np.cumsum(np.cumsum(A[n-1, :, :, :, :], axis=2), axis=3)\n",
    "        Q = np.roll(np.roll(Q, 1, axis=2), 1, axis=3)\n",
    "        Q[:,:,:,0] = 0\n",
    "        Q[:,:,0,:] = 0\n",
    "        Q = np.sum(Q, axis=(0,1))\n",
    "        A[n,0,0,:,:] = K*(1.+Q)\n",
    "        for r in range(1, d):\n",
    "            Q = np.cumsum(A[n-1, r-1, :, :, :], axis=2)\n",
    "            Q = np.roll(Q, 1, axis=2)\n",
    "            Q[:,:,0] = 0\n",
    "            Q = np.sum(Q, axis=0)\n",
    "            A[n,r,0,:,:] = (1./(r+1))*K*Q\n",
    "            \n",
    "            Q = np.cumsum(A[n-1, :, r-1, :, :], axis=1)\n",
    "            Q = np.roll(Q, 1, axis=1)\n",
    "            Q[:,0,:] = 0\n",
    "            Q = np.sum(Q, axis=0)\n",
    "            A[n,0,r,:,:] = (1./(r+1))*K*Q\n",
    "            for s in range(1,d):\n",
    "                A[n,r,s,:,:] = (1./((r+1)*(s+1))) * K * A[n-1,r-1,s-1,:,:]\n",
    "    return 1. + np.sum(A[m,:,:,:,:])"
   ]
  },
  {
   "cell_type": "code",
   "execution_count": 9,
   "id": "numerical-stable",
   "metadata": {},
   "outputs": [],
   "source": [
    "i = 7\n",
    "m = 7\n",
    "o = 5"
   ]
  },
  {
   "cell_type": "code",
   "execution_count": 10,
   "id": "matched-network",
   "metadata": {},
   "outputs": [],
   "source": [
    "l = 3\n",
    "m = l\n",
    "o = l"
   ]
  },
  {
   "cell_type": "code",
   "execution_count": 11,
   "id": "sought-catholic",
   "metadata": {
    "scrolled": true
   },
   "outputs": [
    {
     "name": "stdout",
     "output_type": "stream",
     "text": [
      "12.477311419957555\n"
     ]
    },
    {
     "data": {
      "text/plain": [
       "2.5479098867699994"
      ]
     },
     "execution_count": 11,
     "metadata": {},
     "output_type": "execute_result"
    }
   ],
   "source": [
    "K = signature_kernel_first_order(series[i],series[i], m)\n",
    "print(K)\n",
    "\n",
    "K = signature_kernel_higher_order(series[i], series[i], m, o)\n",
    "K"
   ]
  },
  {
   "cell_type": "code",
   "execution_count": 15,
   "id": "guilty-hollywood",
   "metadata": {},
   "outputs": [],
   "source": [
    "sig_a = iis.sig(series[i], m)\n",
    "sig_b = iis.sig(series[i], m)"
   ]
  },
  {
   "cell_type": "code",
   "execution_count": 16,
   "id": "desirable-motel",
   "metadata": {},
   "outputs": [],
   "source": [
    "import ksig_cpu as ksig"
   ]
  },
  {
   "cell_type": "code",
   "execution_count": 17,
   "id": "roman-vault",
   "metadata": {},
   "outputs": [],
   "source": [
    "static_kernel = ksig.static.kernels.LinearKernel()\n",
    "sig_kernel = ksig.kernels.SignatureKernel(m,order=o, static_kernel=static_kernel)"
   ]
  },
  {
   "cell_type": "code",
   "execution_count": null,
   "id": "affected-mainstream",
   "metadata": {},
   "outputs": [],
   "source": []
  },
  {
   "cell_type": "code",
   "execution_count": 18,
   "id": "accessible-lecture",
   "metadata": {},
   "outputs": [],
   "source": [
    "K_XX = sig_kernel(series)"
   ]
  },
  {
   "cell_type": "code",
   "execution_count": 19,
   "id": "announced-representation",
   "metadata": {},
   "outputs": [
    {
     "data": {
      "text/plain": [
       "2.54790988677"
      ]
     },
     "execution_count": 19,
     "metadata": {},
     "output_type": "execute_result"
    }
   ],
   "source": [
    "K_XX[i,i]"
   ]
  },
  {
   "cell_type": "code",
   "execution_count": 22,
   "id": "personal-child",
   "metadata": {},
   "outputs": [
    {
     "data": {
      "text/plain": [
       "2.5479098867699994"
      ]
     },
     "execution_count": 22,
     "metadata": {},
     "output_type": "execute_result"
    }
   ],
   "source": [
    "sig_a @ sig_b.T + 1 # iisignature omet le terme d'ordre 0 qui est le scalaire 1"
   ]
  },
  {
   "cell_type": "code",
   "execution_count": 28,
   "id": "sexual-columbus",
   "metadata": {},
   "outputs": [],
   "source": []
  },
  {
   "cell_type": "code",
   "execution_count": 49,
   "id": "handled-tomato",
   "metadata": {},
   "outputs": [],
   "source": [
    "def generate_trajectories(N, low, high, dim):\n",
    "    trajectories = []\n",
    "    for i in range(N):\n",
    "        trajectories.append(np.random.rand(np.random.randint(low, high), dim))\n",
    "    return trajectories"
   ]
  },
  {
   "cell_type": "code",
   "execution_count": 104,
   "id": "primary-unemployment",
   "metadata": {},
   "outputs": [],
   "source": [
    "def sig_len(m, d):\n",
    "    return int(np.sum(np.cumprod(np.ones(m)*d)))"
   ]
  },
  {
   "cell_type": "code",
   "execution_count": 34,
   "id": "lyric-plane",
   "metadata": {},
   "outputs": [
    {
     "data": {
      "text/plain": [
       "3368420"
      ]
     },
     "execution_count": 34,
     "metadata": {},
     "output_type": "execute_result"
    }
   ],
   "source": [
    "sig_len = int(np.sum(np.cumprod(np.ones(m)*dim))) # Formule pour calculer la taille d'une signature tronquée\n",
    "sig_len"
   ]
  },
  {
   "cell_type": "markdown",
   "id": "incorrect-necessity",
   "metadata": {},
   "source": [
    "## Temps de calculs"
   ]
  },
  {
   "cell_type": "code",
   "execution_count": 92,
   "id": "compact-tackle",
   "metadata": {},
   "outputs": [],
   "source": [
    "def measure_rawsig(trajectories, N, m):\n",
    "    start_time = time.time()\n",
    "    #dim = len(trajectories[0][0])\n",
    "    #sig_len = int(np.sum(np.cumprod(np.ones(m)*dim)))\n",
    "    for i in range(N):\n",
    "        traj_sigs = iis.sig(trajectories[i], m)\n",
    "    return (time.time() - start_time)"
   ]
  },
  {
   "cell_type": "code",
   "execution_count": 39,
   "id": "backed-prevention",
   "metadata": {},
   "outputs": [],
   "source": [
    "def measure_sigker(trajectories, N, m, o):\n",
    "    start_time = time.time()\n",
    "    sigker_gramian = np.zeros((N,N))\n",
    "    for i in range(N):\n",
    "        for j in range(N):\n",
    "            sigker_gramian[i][j] = signature_kernel_higher_order(trajectories[i], trajectories[j], m, o)\n",
    "    return (time.time() - start_time)"
   ]
  },
  {
   "cell_type": "code",
   "execution_count": 46,
   "id": "computational-president",
   "metadata": {},
   "outputs": [
    {
     "data": {
      "text/plain": [
       "10.50113034248352"
      ]
     },
     "execution_count": 46,
     "metadata": {},
     "output_type": "execute_result"
    }
   ],
   "source": [
    "measure_rawsig(trajectories,3,5)"
   ]
  },
  {
   "cell_type": "code",
   "execution_count": 47,
   "id": "broadband-financing",
   "metadata": {},
   "outputs": [
    {
     "data": {
      "text/plain": [
       "0.54653000831604"
      ]
     },
     "execution_count": 47,
     "metadata": {},
     "output_type": "execute_result"
    }
   ],
   "source": [
    "measure_sigker(trajectories,3,5,5)"
   ]
  },
  {
   "cell_type": "code",
   "execution_count": 50,
   "id": "italic-passenger",
   "metadata": {},
   "outputs": [],
   "source": [
    "N = 100 # Nombre de trajectoires aléatoires\n",
    "low = 100 # Taille minimale des trajectoires\n",
    "high = 200 # Taille maximale des trajectoires\n",
    "dim = 20 # Dimension\n",
    "\n",
    "m = 5 #Niveau de troncation\n",
    "o = 5 #Ordre de l'approximation (noyau signature uniquement)"
   ]
  },
  {
   "cell_type": "code",
   "execution_count": 51,
   "id": "meaningful-semiconductor",
   "metadata": {},
   "outputs": [],
   "source": [
    "trajectories = generate_trajectories(N, low, high, dim)"
   ]
  },
  {
   "cell_type": "code",
   "execution_count": 54,
   "id": "intermediate-hunger",
   "metadata": {},
   "outputs": [
    {
     "data": {
      "text/plain": [
       "0.020831823348999023"
      ]
     },
     "execution_count": 54,
     "metadata": {},
     "output_type": "execute_result"
    }
   ],
   "source": [
    "measure_rawsig(trajectories,3,3)"
   ]
  },
  {
   "cell_type": "code",
   "execution_count": 55,
   "id": "proper-journalist",
   "metadata": {},
   "outputs": [
    {
     "data": {
      "text/plain": [
       "0.14931178092956543"
      ]
     },
     "execution_count": 55,
     "metadata": {},
     "output_type": "execute_result"
    }
   ],
   "source": [
    "measure_sigker(trajectories,3,3,3)"
   ]
  },
  {
   "cell_type": "code",
   "execution_count": 69,
   "id": "handled-berkeley",
   "metadata": {},
   "outputs": [],
   "source": [
    "M = np.arange(2, 10)\n",
    "rawsig_t = []\n",
    "sigker_t = []"
   ]
  },
  {
   "cell_type": "code",
   "execution_count": 98,
   "id": "extensive-charlotte",
   "metadata": {},
   "outputs": [
    {
     "name": "stdout",
     "output_type": "stream",
     "text": [
      "7\n",
      "0\n"
     ]
    },
    {
     "ename": "ValueError",
     "evalue": "negative dimensions are not allowed",
     "output_type": "error",
     "traceback": [
      "\u001b[0;31m---------------------------------------------------------------------------\u001b[0m",
      "\u001b[0;31mValueError\u001b[0m                                Traceback (most recent call last)",
      "\u001b[0;32m<ipython-input-98-3c6a992a4f5b>\u001b[0m in \u001b[0;36m<module>\u001b[0;34m\u001b[0m\n\u001b[1;32m      1\u001b[0m \u001b[0mprint\u001b[0m\u001b[0;34m(\u001b[0m\u001b[0mm\u001b[0m\u001b[0;34m)\u001b[0m\u001b[0;34m\u001b[0m\u001b[0;34m\u001b[0m\u001b[0m\n\u001b[1;32m      2\u001b[0m \u001b[0;32mfor\u001b[0m \u001b[0mm\u001b[0m \u001b[0;32min\u001b[0m \u001b[0mnp\u001b[0m\u001b[0;34m.\u001b[0m\u001b[0marange\u001b[0m\u001b[0;34m(\u001b[0m\u001b[0;36m7\u001b[0m\u001b[0;34m,\u001b[0m\u001b[0;36m10\u001b[0m\u001b[0;34m)\u001b[0m\u001b[0;34m:\u001b[0m\u001b[0;34m\u001b[0m\u001b[0;34m\u001b[0m\u001b[0m\n\u001b[0;32m----> 3\u001b[0;31m     \u001b[0mrawsig_t\u001b[0m\u001b[0;34m.\u001b[0m\u001b[0mappend\u001b[0m\u001b[0;34m(\u001b[0m\u001b[0mmeasure_rawsig\u001b[0m\u001b[0;34m(\u001b[0m\u001b[0mtrajectories\u001b[0m\u001b[0;34m,\u001b[0m\u001b[0;36m10\u001b[0m\u001b[0;34m,\u001b[0m\u001b[0mm\u001b[0m\u001b[0;34m)\u001b[0m\u001b[0;34m)\u001b[0m\u001b[0;34m\u001b[0m\u001b[0;34m\u001b[0m\u001b[0m\n\u001b[0m",
      "\u001b[0;32m<ipython-input-92-8de9c41bea45>\u001b[0m in \u001b[0;36mmeasure_rawsig\u001b[0;34m(trajectories, N, m)\u001b[0m\n\u001b[1;32m      5\u001b[0m     \u001b[0;32mfor\u001b[0m \u001b[0mi\u001b[0m \u001b[0;32min\u001b[0m \u001b[0mrange\u001b[0m\u001b[0;34m(\u001b[0m\u001b[0mN\u001b[0m\u001b[0;34m)\u001b[0m\u001b[0;34m:\u001b[0m\u001b[0;34m\u001b[0m\u001b[0;34m\u001b[0m\u001b[0m\n\u001b[1;32m      6\u001b[0m         \u001b[0mprint\u001b[0m\u001b[0;34m(\u001b[0m\u001b[0mi\u001b[0m\u001b[0;34m)\u001b[0m\u001b[0;34m\u001b[0m\u001b[0;34m\u001b[0m\u001b[0m\n\u001b[0;32m----> 7\u001b[0;31m         \u001b[0mtraj_sigs\u001b[0m \u001b[0;34m=\u001b[0m \u001b[0miis\u001b[0m\u001b[0;34m.\u001b[0m\u001b[0msig\u001b[0m\u001b[0;34m(\u001b[0m\u001b[0mtrajectories\u001b[0m\u001b[0;34m[\u001b[0m\u001b[0mi\u001b[0m\u001b[0;34m]\u001b[0m\u001b[0;34m,\u001b[0m \u001b[0mm\u001b[0m\u001b[0;34m)\u001b[0m\u001b[0;34m\u001b[0m\u001b[0;34m\u001b[0m\u001b[0m\n\u001b[0m\u001b[1;32m      8\u001b[0m     \u001b[0;32mreturn\u001b[0m \u001b[0;34m(\u001b[0m\u001b[0mtime\u001b[0m\u001b[0;34m.\u001b[0m\u001b[0mtime\u001b[0m\u001b[0;34m(\u001b[0m\u001b[0;34m)\u001b[0m \u001b[0;34m-\u001b[0m \u001b[0mstart_time\u001b[0m\u001b[0;34m)\u001b[0m\u001b[0;34m\u001b[0m\u001b[0;34m\u001b[0m\u001b[0m\n",
      "\u001b[0;31mValueError\u001b[0m: negative dimensions are not allowed"
     ]
    }
   ],
   "source": [
    "for m in M:\n",
    "    rawsig_t.append(measure_rawsig(trajectories,10,m))"
   ]
  },
  {
   "cell_type": "code",
   "execution_count": 72,
   "id": "later-apple",
   "metadata": {},
   "outputs": [],
   "source": [
    "for m in M:\n",
    "    sigker_t.append(measure_sigker(trajectories,10,m,m))"
   ]
  },
  {
   "cell_type": "code",
   "execution_count": null,
   "id": "funded-edgar",
   "metadata": {},
   "outputs": [],
   "source": [
    "rawsig_t"
   ]
  },
  {
   "cell_type": "code",
   "execution_count": 71,
   "id": "popular-frederick",
   "metadata": {},
   "outputs": [
    {
     "data": {
      "text/plain": [
       "[0.0038471221923828125,\n",
       " 0.07725858688354492,\n",
       " 0.6732790470123291,\n",
       " 33.33596920967102,\n",
       " 780.5179286003113]"
      ]
     },
     "execution_count": 71,
     "metadata": {},
     "output_type": "execute_result"
    }
   ],
   "source": [
    "rawsig_t"
   ]
  },
  {
   "cell_type": "code",
   "execution_count": 73,
   "id": "desirable-reform",
   "metadata": {
    "scrolled": true
   },
   "outputs": [
    {
     "data": {
      "text/plain": [
       "[0.451080322265625,\n",
       " 1.1762325763702393,\n",
       " 2.595628261566162,\n",
       " 4.943403005599976,\n",
       " 8.19981074333191,\n",
       " 12.463320016860962,\n",
       " 18.075029134750366,\n",
       " 25.428099632263184]"
      ]
     },
     "execution_count": 73,
     "metadata": {},
     "output_type": "execute_result"
    }
   ],
   "source": [
    "sigker_t"
   ]
  },
  {
   "cell_type": "code",
   "execution_count": 75,
   "id": "demonstrated-third",
   "metadata": {},
   "outputs": [],
   "source": [
    "import matplotlib.pyplot as plt"
   ]
  },
  {
   "cell_type": "code",
   "execution_count": 102,
   "id": "rental-brick",
   "metadata": {},
   "outputs": [
    {
     "data": {
      "image/png": "[encoded data removed]",
      "text/plain": [
       "<Figure size 432x288 with 1 Axes>"
      ]
     },
     "metadata": {
      "needs_background": "light"
     },
     "output_type": "display_data"
    }
   ],
   "source": [
    "plt.plot(np.arange(2, len(rawsig_t)+2), np.array(rawsig_t)*10.)\n",
    "plt.plot(np.arange(2, len(sigker_t)+2), np.array(sigker_t)*100.)\n",
    "plt.xlabel(\"Niveau de troncature\")\n",
    "plt.ylabel(\"Temps (s)\")\n",
    "plt.yscale(\"log\")"
   ]
  },
  {
   "cell_type": "code",
   "execution_count": 109,
   "id": "committed-richardson",
   "metadata": {},
   "outputs": [],
   "source": [
    "m = 4\n",
    "O = np.arange(1,5)\n",
    "sigs = np.array([iis.sig(trajectories[i], m) for i in range(100)])"
   ]
  },
  {
   "cell_type": "code",
   "execution_count": 114,
   "id": "joined-alpha",
   "metadata": {},
   "outputs": [],
   "source": [
    "true_gram = 1 + sigs@sigs.T"
   ]
  },
  {
   "cell_type": "code",
   "execution_count": 134,
   "id": "essential-district",
   "metadata": {},
   "outputs": [],
   "source": [
    "precisions = []\n",
    "O = np.arange(1,5)\n",
    "sigker_gram = np.zeros_like(true_gram)\n",
    "for o in O:\n",
    "    for i in range(len(true_gram)):\n",
    "        for j in range(len(true_gram)):\n",
    "            sigker_gram[i][j] = signature_kernel_higher_order(trajectories[i],trajectories[j],m,o)\n",
    "    precisions.append(true_gram - sigker_gram)"
   ]
  },
  {
   "cell_type": "code",
   "execution_count": 154,
   "id": "fifth-plasma",
   "metadata": {},
   "outputs": [
    {
     "data": {
      "text/plain": [
       "8.36735125631094e-10"
      ]
     },
     "execution_count": 154,
     "metadata": {},
     "output_type": "execute_result"
    }
   ],
   "source": [
    "np.max(np.abs(precisions[3]))"
   ]
  },
  {
   "cell_type": "code",
   "execution_count": 146,
   "id": "executive-asset",
   "metadata": {},
   "outputs": [
    {
     "data": {
      "text/plain": [
       "[38547.152853198,\n",
       " 3988.160672692533,\n",
       " 3.528603198044124e-09,\n",
       " 3.438439939339509e-09]"
      ]
     },
     "execution_count": 146,
     "metadata": {},
     "output_type": "execute_result"
    }
   ],
   "source": [
    "diff = [np.linalg.norm(i) for i in precisions]"
   ]
  },
  {
   "cell_type": "code",
   "execution_count": 153,
   "id": "fleet-words",
   "metadata": {},
   "outputs": [
    {
     "data": {
      "text/plain": [
       "([<matplotlib.axis.XTick at 0x7f120b022ca0>,\n",
       "  <matplotlib.axis.XTick at 0x7f120b022c70>,\n",
       "  <matplotlib.axis.XTick at 0x7f120b022af0>,\n",
       "  <matplotlib.axis.XTick at 0x7f120b4fb730>],\n",
       " [Text(0, 0, ''), Text(0, 0, ''), Text(0, 0, ''), Text(0, 0, '')])"
      ]
     },
     "execution_count": 153,
     "metadata": {},
     "output_type": "execute_result"
    },
    {
     "data": {
      "image/png": "[encoded data removed]",
      "text/plain": [
       "<Figure size 432x288 with 1 Axes>"
      ]
     },
     "metadata": {
      "needs_background": "light"
     },
     "output_type": "display_data"
    }
   ],
   "source": [
    "plt.plot(np.arange(1,5),diff)\n",
    "plt.yscale(\"log\")\n",
    "plt.xlabel(\"Ordre d'approximation\")\n",
    "plt.ylabel(\"Erreur (norme Frobenius)\")\n",
    "plt.xticks(np.arange(1,5))"
   ]
  }
 ],
 "metadata": {
  "kernelspec": {
   "display_name": "Python 3",
   "language": "python",
   "name": "python3"
  },
  "language_info": {
   "codemirror_mode": {
    "name": "ipython",
    "version": 3
   },
   "file_extension": ".py",
   "mimetype": "text/x-python",
   "name": "python",
   "nbconvert_exporter": "python",
   "pygments_lexer": "ipython3",
   "version": "3.9.2"
  }
 },
 "nbformat": 4,
 "nbformat_minor": 5
}
