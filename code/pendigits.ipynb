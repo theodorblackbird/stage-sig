{
 "cells": [
  {
   "cell_type": "markdown",
   "id": "formal-looking",
   "metadata": {},
   "source": [
    "# Signature kernel (version rapide)\n"
   ]
  },
  {
   "cell_type": "code",
   "execution_count": 1,
   "id": "unable-importance",
   "metadata": {},
   "outputs": [],
   "source": [
    "#import ksig_cpu as ksig\n",
    "import ksig #Nécessite GPU NVIDIA avec au moins 5 Go de GRAM disponibles"
   ]
  },
  {
   "cell_type": "code",
   "execution_count": 2,
   "id": "defensive-asthma",
   "metadata": {},
   "outputs": [],
   "source": [
    "import pandas as pd\n",
    "import numpy as np \n",
    "import matplotlib.pyplot as plt\n",
    "import time\n",
    "from sklearn.preprocessing import StandardScaler\n",
    "from sklearn.svm import SVC"
   ]
  },
  {
   "cell_type": "code",
   "execution_count": 3,
   "id": "unnecessary-leone",
   "metadata": {},
   "outputs": [],
   "source": [
    "def lead_lag(x):\n",
    "    d = x.shape[0]\n",
    "    x = x[...,np.newaxis]\n",
    "    x = np.stack([x]*(2*d), axis = 2).reshape(d, -1)\n",
    "    x = np.concatenate((x,x), axis = 0)\n",
    "    for i in range(2*d):\n",
    "        x[2*d - i - 1] = np.roll(x[2*d - i - 1], -i)\n",
    "    return x[:, :-(2*d - 1)]\n"
   ]
  },
  {
   "cell_type": "code",
   "execution_count": 4,
   "id": "coral-princeton",
   "metadata": {},
   "outputs": [],
   "source": [
    "ds = pd.read_csv(\"pendigits.csv\").to_numpy()"
   ]
  },
  {
   "cell_type": "code",
   "execution_count": 5,
   "id": "hundred-study",
   "metadata": {},
   "outputs": [
    {
     "data": {
      "text/plain": [
       "[<matplotlib.lines.Line2D at 0x7fa2ddc28e20>]"
      ]
     },
     "execution_count": 5,
     "metadata": {},
     "output_type": "execute_result"
    },
    {
     "data": {
      "image/png": "[encoded data removed]",
      "text/plain": [
       "<Figure size 432x288 with 1 Axes>"
      ]
     },
     "metadata": {
      "needs_background": "light"
     },
     "output_type": "display_data"
    }
   ],
   "source": [
    "idx = np.random.randint(500)\n",
    "x_sample = ds[idx][:16].reshape(8,2)[:,0]\n",
    "y_sample = ds[idx][:16].reshape(8,2)[:,1]\n",
    "plt.plot(x_sample,y_sample)\n"
   ]
  },
  {
   "cell_type": "code",
   "execution_count": 142,
   "id": "verified-liberal",
   "metadata": {},
   "outputs": [],
   "source": [
    "X = ds[:, :16].reshape(-1, 8, 2)\n",
    "n = 3000\n",
    "scaler_x = StandardScaler()\n",
    "scaler_y = StandardScaler()\n",
    "\n",
    "scaler_x.fit(X[:n,:,0])\n",
    "scaler_y.fit(X[:n,:,1])\n",
    "\n",
    "X[:,:,0] = scaler_x.transform(X[:,:,0])\n",
    "X[:,:,1] = scaler_y.transform(X[:,:,1])\n",
    "\n",
    "\n",
    "y = ds[:, 16]\n",
    "\n",
    "X_ll = np.array([lead_lag(i.T).T for i in X])\n",
    "X_train, y_train, X_test, y_test = X[:n], y[:n], X[n:], y[n:]\n",
    "X_ll_train, y_ll_train, X_ll_test, y_ll_test = X_ll[:n], y[:n], X_ll[n:], y[n:]\n",
    "\n"
   ]
  },
  {
   "cell_type": "markdown",
   "id": "extra-jefferson",
   "metadata": {},
   "source": [
    "### Matrices de Gram\n",
    "Hyperparamètres dépendants du matériel\n",
    "\n",
    "n_levels : rang tensoriel maximal considéré \n",
    "\n",
    "n_order : ordre d'approximation\n",
    "\n",
    "n_components : rang dans l'approximation Nystroem et dans la projection aléatoire\n",
    "\n",
    "\\*_ll_\\* : HP pour les données lead-lad"
   ]
  },
  {
   "cell_type": "code",
   "execution_count": 150,
   "id": "recorded-enterprise",
   "metadata": {},
   "outputs": [],
   "source": [
    "n_levels = 3\n",
    "n_order = 3\n",
    "n_components = 50\n",
    "\n",
    "n_ll_levels = 3\n",
    "n_ll_order = 1\n",
    "n_ll_components = 20"
   ]
  },
  {
   "cell_type": "code",
   "execution_count": 151,
   "id": "sublime-playing",
   "metadata": {
    "scrolled": true
   },
   "outputs": [
    {
     "data": {
      "text/plain": [
       "LowRankSignatureKernel(n_levels=3, order=3,\n",
       "                       static_features=NystroemFeatures(n_components=50,\n",
       "                                                        static_kernel=RBFKernel()))"
      ]
     },
     "execution_count": 151,
     "metadata": {},
     "output_type": "execute_result"
    }
   ],
   "source": [
    "static_kernel = ksig.static.kernels.RBFKernel()\n",
    "proj = ksig.projections.CountSketchRandomProjection(n_components=n_components)\n",
    "static_feat = ksig.static.features.NystroemFeatures(static_kernel, n_components=n_components)\n",
    "\n",
    "lr_sig_kernel = ksig.kernels.LowRankSignatureKernel(order=n_order, n_levels=n_levels, static_features=static_feat)\n",
    "lr_sig_kernel.fit(X_train)\n"
   ]
  },
  {
   "cell_type": "code",
   "execution_count": 152,
   "id": "vanilla-absorption",
   "metadata": {},
   "outputs": [
    {
     "data": {
      "text/plain": [
       "(3000, 8, 2)"
      ]
     },
     "execution_count": 152,
     "metadata": {},
     "output_type": "execute_result"
    }
   ],
   "source": [
    "X_train.shape"
   ]
  },
  {
   "cell_type": "code",
   "execution_count": 153,
   "id": "hollywood-finance",
   "metadata": {},
   "outputs": [
    {
     "data": {
      "text/plain": [
       "'static_kernel_ll = ksig.static.kernels.RBFKernel(sigma = 1., lengthscale = 1.)\\nproj_ll = ksig.projections.CountSketchRandomProjection(n_components=n_components)\\nstatic_feat_ll = ksig.static.features.NystroemFeatures(static_kernel_ll, n_components=n_ll_components)\\n\\nlr_sig_kernel_ll = ksig.kernels.LowRankSignatureKernel(order=n_ll_order, n_levels=n_ll_levels, static_features=static_feat_ll, sigma=10)\\nlr_sig_kernel_ll.fit(X_ll_train)'"
      ]
     },
     "execution_count": 153,
     "metadata": {},
     "output_type": "execute_result"
    }
   ],
   "source": [
    "\"\"\"static_kernel_ll = ksig.static.kernels.RBFKernel(sigma = 1., lengthscale = 1.)\n",
    "proj_ll = ksig.projections.CountSketchRandomProjection(n_components=n_components)\n",
    "static_feat_ll = ksig.static.features.NystroemFeatures(static_kernel_ll, n_components=n_ll_components)\n",
    "\n",
    "lr_sig_kernel_ll = ksig.kernels.LowRankSignatureKernel(order=n_ll_order, n_levels=n_ll_levels, static_features=static_feat_ll, sigma=10)\n",
    "lr_sig_kernel_ll.fit(X_ll_train)\"\"\"\n"
   ]
  },
  {
   "cell_type": "code",
   "execution_count": 154,
   "id": "artistic-worst",
   "metadata": {},
   "outputs": [],
   "source": [
    "K_XX = lr_sig_kernel(X_train)"
   ]
  },
  {
   "cell_type": "code",
   "execution_count": 155,
   "id": "alternative-latitude",
   "metadata": {},
   "outputs": [],
   "source": [
    "#K_ll_XX = lr_sig_kernel_ll(X_ll_train)"
   ]
  },
  {
   "cell_type": "code",
   "execution_count": 156,
   "id": "anticipated-cookie",
   "metadata": {},
   "outputs": [
    {
     "ename": "OutOfMemoryError",
     "evalue": "Out of memory allocating 1,787,075,584 bytes (allocated so far: 2,593,206,784 bytes).",
     "output_type": "error",
     "traceback": [
      "\u001b[0;31m---------------------------------------------------------------------------\u001b[0m",
      "\u001b[0;31mOutOfMemoryError\u001b[0m                          Traceback (most recent call last)",
      "\u001b[0;32m<ipython-input-156-49d59e2a5078>\u001b[0m in \u001b[0;36m<module>\u001b[0;34m\u001b[0m\n\u001b[1;32m      1\u001b[0m \u001b[0mclf\u001b[0m \u001b[0;34m=\u001b[0m \u001b[0mSVC\u001b[0m\u001b[0;34m(\u001b[0m\u001b[0mC\u001b[0m\u001b[0;34m=\u001b[0m\u001b[0;36m1.\u001b[0m\u001b[0;34m,\u001b[0m \u001b[0mkernel\u001b[0m\u001b[0;34m=\u001b[0m\u001b[0;34m'precomputed'\u001b[0m\u001b[0;34m)\u001b[0m\u001b[0;34m\u001b[0m\u001b[0;34m\u001b[0m\u001b[0m\n\u001b[1;32m      2\u001b[0m \u001b[0mclf\u001b[0m\u001b[0;34m.\u001b[0m\u001b[0mfit\u001b[0m\u001b[0;34m(\u001b[0m\u001b[0mK_XX\u001b[0m\u001b[0;34m,\u001b[0m \u001b[0my_train\u001b[0m\u001b[0;34m)\u001b[0m\u001b[0;34m\u001b[0m\u001b[0;34m\u001b[0m\u001b[0m\n\u001b[0;32m----> 3\u001b[0;31m \u001b[0mkernel_test\u001b[0m \u001b[0;34m=\u001b[0m \u001b[0mlr_sig_kernel\u001b[0m\u001b[0;34m(\u001b[0m\u001b[0mX_test\u001b[0m\u001b[0;34m,\u001b[0m \u001b[0mX_train\u001b[0m\u001b[0;34m)\u001b[0m\u001b[0;34m\u001b[0m\u001b[0;34m\u001b[0m\u001b[0m\n\u001b[0m\u001b[1;32m      4\u001b[0m \u001b[0my_pred\u001b[0m \u001b[0;34m=\u001b[0m \u001b[0mclf\u001b[0m\u001b[0;34m.\u001b[0m\u001b[0mpredict\u001b[0m\u001b[0;34m(\u001b[0m\u001b[0mkernel_test\u001b[0m\u001b[0;34m)\u001b[0m\u001b[0;34m\u001b[0m\u001b[0;34m\u001b[0m\u001b[0m\n\u001b[1;32m      5\u001b[0m \u001b[0macc\u001b[0m \u001b[0;34m=\u001b[0m \u001b[0;34m(\u001b[0m \u001b[0;34m(\u001b[0m\u001b[0;34m(\u001b[0m\u001b[0my_pred\u001b[0m \u001b[0;34m==\u001b[0m \u001b[0my_test\u001b[0m\u001b[0;34m)\u001b[0m\u001b[0;34m.\u001b[0m\u001b[0msum\u001b[0m\u001b[0;34m(\u001b[0m\u001b[0;34m)\u001b[0m\u001b[0;34m/\u001b[0m\u001b[0mlen\u001b[0m\u001b[0;34m(\u001b[0m\u001b[0my_pred\u001b[0m\u001b[0;34m)\u001b[0m\u001b[0;34m)\u001b[0m \u001b[0;34m)\u001b[0m\u001b[0;34m\u001b[0m\u001b[0;34m\u001b[0m\u001b[0m\n",
      "\u001b[0;32m~/stage/kernel/ksig/static/features.py\u001b[0m in \u001b[0;36m__call__\u001b[0;34m(self, X, Y, diag, return_on_gpu)\u001b[0m\n\u001b[1;32m     76\u001b[0m         \u001b[0;32mif\u001b[0m \u001b[0mY\u001b[0m \u001b[0;32mis\u001b[0m \u001b[0;32mnot\u001b[0m \u001b[0;32mNone\u001b[0m\u001b[0;34m:\u001b[0m\u001b[0;34m\u001b[0m\u001b[0;34m\u001b[0m\u001b[0m\n\u001b[1;32m     77\u001b[0m             \u001b[0mY\u001b[0m \u001b[0;34m=\u001b[0m \u001b[0mself\u001b[0m\u001b[0;34m.\u001b[0m\u001b[0m_validate_data\u001b[0m\u001b[0;34m(\u001b[0m\u001b[0mY\u001b[0m\u001b[0;34m)\u001b[0m\u001b[0;34m\u001b[0m\u001b[0;34m\u001b[0m\u001b[0m\n\u001b[0;32m---> 78\u001b[0;31m         \u001b[0;32mreturn\u001b[0m \u001b[0msuper\u001b[0m\u001b[0;34m(\u001b[0m\u001b[0;34m)\u001b[0m\u001b[0;34m.\u001b[0m\u001b[0m__call__\u001b[0m\u001b[0;34m(\u001b[0m\u001b[0mX\u001b[0m\u001b[0;34m,\u001b[0m \u001b[0mY\u001b[0m\u001b[0;34m=\u001b[0m\u001b[0mY\u001b[0m\u001b[0;34m,\u001b[0m \u001b[0mdiag\u001b[0m\u001b[0;34m=\u001b[0m\u001b[0mdiag\u001b[0m\u001b[0;34m,\u001b[0m \u001b[0mreturn_on_gpu\u001b[0m\u001b[0;34m=\u001b[0m\u001b[0mreturn_on_gpu\u001b[0m\u001b[0;34m)\u001b[0m\u001b[0;34m\u001b[0m\u001b[0;34m\u001b[0m\u001b[0m\n\u001b[0m\u001b[1;32m     79\u001b[0m \u001b[0;34m\u001b[0m\u001b[0m\n\u001b[1;32m     80\u001b[0m \u001b[0;31m# ----------------------------------------------------------------------------------------------------------------------------------------------------------------\u001b[0m\u001b[0;34m\u001b[0m\u001b[0;34m\u001b[0m\u001b[0;34m\u001b[0m\u001b[0m\n",
      "\u001b[0;32m~/stage/kernel/ksig/static/kernels.py\u001b[0m in \u001b[0;36m__call__\u001b[0;34m(self, X, Y, diag, return_on_gpu)\u001b[0m\n\u001b[1;32m     40\u001b[0m             \u001b[0mK\u001b[0m \u001b[0;34m=\u001b[0m \u001b[0mself\u001b[0m\u001b[0;34m.\u001b[0m\u001b[0m_Kdiag\u001b[0m\u001b[0;34m(\u001b[0m\u001b[0mX\u001b[0m\u001b[0;34m)\u001b[0m\u001b[0;34m\u001b[0m\u001b[0;34m\u001b[0m\u001b[0m\n\u001b[1;32m     41\u001b[0m         \u001b[0;32melse\u001b[0m\u001b[0;34m:\u001b[0m\u001b[0;34m\u001b[0m\u001b[0;34m\u001b[0m\u001b[0m\n\u001b[0;32m---> 42\u001b[0;31m             \u001b[0mK\u001b[0m \u001b[0;34m=\u001b[0m  \u001b[0mself\u001b[0m\u001b[0;34m.\u001b[0m\u001b[0m_K\u001b[0m\u001b[0;34m(\u001b[0m\u001b[0mX\u001b[0m\u001b[0;34m,\u001b[0m \u001b[0mY\u001b[0m\u001b[0;34m)\u001b[0m\u001b[0;34m\u001b[0m\u001b[0;34m\u001b[0m\u001b[0m\n\u001b[0m\u001b[1;32m     43\u001b[0m         \u001b[0;32mif\u001b[0m \u001b[0;32mnot\u001b[0m \u001b[0mreturn_on_gpu\u001b[0m\u001b[0;34m:\u001b[0m\u001b[0;34m\u001b[0m\u001b[0;34m\u001b[0m\u001b[0m\n\u001b[1;32m     44\u001b[0m             \u001b[0mK\u001b[0m \u001b[0;34m=\u001b[0m \u001b[0mcp\u001b[0m\u001b[0;34m.\u001b[0m\u001b[0masnumpy\u001b[0m\u001b[0;34m(\u001b[0m\u001b[0mK\u001b[0m\u001b[0;34m)\u001b[0m\u001b[0;34m\u001b[0m\u001b[0;34m\u001b[0m\u001b[0m\n",
      "\u001b[0;32m~/stage/kernel/ksig/static/features.py\u001b[0m in \u001b[0;36m_K\u001b[0;34m(self, X, Y)\u001b[0m\n\u001b[1;32m     63\u001b[0m \u001b[0;34m\u001b[0m\u001b[0m\n\u001b[1;32m     64\u001b[0m     \u001b[0;32mdef\u001b[0m \u001b[0m_K\u001b[0m\u001b[0;34m(\u001b[0m\u001b[0mself\u001b[0m\u001b[0;34m,\u001b[0m \u001b[0mX\u001b[0m \u001b[0;34m:\u001b[0m \u001b[0mArrayOnGPU\u001b[0m\u001b[0;34m,\u001b[0m \u001b[0mY\u001b[0m \u001b[0;34m:\u001b[0m \u001b[0mOptional\u001b[0m\u001b[0;34m[\u001b[0m\u001b[0mArrayOnGPU\u001b[0m\u001b[0;34m]\u001b[0m \u001b[0;34m=\u001b[0m \u001b[0;32mNone\u001b[0m\u001b[0;34m)\u001b[0m \u001b[0;34m->\u001b[0m \u001b[0mArrayOnGPU\u001b[0m\u001b[0;34m:\u001b[0m\u001b[0;34m\u001b[0m\u001b[0;34m\u001b[0m\u001b[0m\n\u001b[0;32m---> 65\u001b[0;31m         \u001b[0mX_feat\u001b[0m \u001b[0;34m=\u001b[0m \u001b[0mself\u001b[0m\u001b[0;34m.\u001b[0m\u001b[0m_compute_features\u001b[0m\u001b[0;34m(\u001b[0m\u001b[0mX\u001b[0m\u001b[0;34m)\u001b[0m\u001b[0;34m\u001b[0m\u001b[0;34m\u001b[0m\u001b[0m\n\u001b[0m\u001b[1;32m     66\u001b[0m         \u001b[0mY_feat\u001b[0m \u001b[0;34m=\u001b[0m \u001b[0mself\u001b[0m\u001b[0;34m.\u001b[0m\u001b[0m_compute_features\u001b[0m\u001b[0;34m(\u001b[0m\u001b[0mY\u001b[0m\u001b[0;34m)\u001b[0m \u001b[0;32mif\u001b[0m \u001b[0mY\u001b[0m \u001b[0;32mis\u001b[0m \u001b[0;32mnot\u001b[0m \u001b[0;32mNone\u001b[0m \u001b[0;32melse\u001b[0m \u001b[0;32mNone\u001b[0m\u001b[0;34m\u001b[0m\u001b[0;34m\u001b[0m\u001b[0m\n\u001b[1;32m     67\u001b[0m         \u001b[0;32mreturn\u001b[0m \u001b[0mutils\u001b[0m\u001b[0;34m.\u001b[0m\u001b[0mmatrix_mult\u001b[0m\u001b[0;34m(\u001b[0m\u001b[0mX_feat\u001b[0m\u001b[0;34m,\u001b[0m \u001b[0mY_feat\u001b[0m\u001b[0;34m,\u001b[0m \u001b[0mtranspose_Y\u001b[0m\u001b[0;34m=\u001b[0m\u001b[0;32mTrue\u001b[0m\u001b[0;34m)\u001b[0m\u001b[0;34m\u001b[0m\u001b[0;34m\u001b[0m\u001b[0m\n",
      "\u001b[0;32m~/stage/kernel/ksig/kernels.py\u001b[0m in \u001b[0;36m_compute_features\u001b[0;34m(self, X)\u001b[0m\n\u001b[1;32m    141\u001b[0m     \u001b[0;32mdef\u001b[0m \u001b[0m_compute_features\u001b[0m\u001b[0;34m(\u001b[0m\u001b[0mself\u001b[0m\u001b[0;34m,\u001b[0m \u001b[0mX\u001b[0m \u001b[0;34m:\u001b[0m \u001b[0mArrayOnGPU\u001b[0m\u001b[0;34m)\u001b[0m \u001b[0;34m->\u001b[0m \u001b[0mArrayOnGPU\u001b[0m\u001b[0;34m:\u001b[0m\u001b[0;34m\u001b[0m\u001b[0;34m\u001b[0m\u001b[0m\n\u001b[1;32m    142\u001b[0m         \u001b[0mU\u001b[0m \u001b[0;34m=\u001b[0m \u001b[0mself\u001b[0m\u001b[0;34m.\u001b[0m\u001b[0mstatic_features_\u001b[0m\u001b[0;34m.\u001b[0m\u001b[0mtransform\u001b[0m\u001b[0;34m(\u001b[0m\u001b[0mX\u001b[0m\u001b[0;34m,\u001b[0m \u001b[0mreturn_on_gpu\u001b[0m\u001b[0;34m=\u001b[0m\u001b[0;32mTrue\u001b[0m\u001b[0;34m)\u001b[0m \u001b[0;32mif\u001b[0m \u001b[0mself\u001b[0m\u001b[0;34m.\u001b[0m\u001b[0mstatic_features\u001b[0m \u001b[0;32mis\u001b[0m \u001b[0;32mnot\u001b[0m \u001b[0;32mNone\u001b[0m \u001b[0;32melse\u001b[0m \u001b[0mX\u001b[0m\u001b[0;34m\u001b[0m\u001b[0;34m\u001b[0m\u001b[0m\n\u001b[0;32m--> 143\u001b[0;31m         \u001b[0mP\u001b[0m \u001b[0;34m=\u001b[0m \u001b[0msignature_kern_low_rank\u001b[0m\u001b[0;34m(\u001b[0m\u001b[0mU\u001b[0m\u001b[0;34m,\u001b[0m \u001b[0mself\u001b[0m\u001b[0;34m.\u001b[0m\u001b[0mn_levels\u001b[0m\u001b[0;34m,\u001b[0m \u001b[0morder\u001b[0m\u001b[0;34m=\u001b[0m\u001b[0mself\u001b[0m\u001b[0;34m.\u001b[0m\u001b[0morder\u001b[0m\u001b[0;34m,\u001b[0m \u001b[0mdifference\u001b[0m\u001b[0;34m=\u001b[0m\u001b[0mself\u001b[0m\u001b[0;34m.\u001b[0m\u001b[0mdifference\u001b[0m\u001b[0;34m,\u001b[0m \u001b[0mreturn_levels\u001b[0m\u001b[0;34m=\u001b[0m\u001b[0mself\u001b[0m\u001b[0;34m.\u001b[0m\u001b[0mnormalization\u001b[0m\u001b[0;34m,\u001b[0m \u001b[0mprojections\u001b[0m\u001b[0;34m=\u001b[0m\u001b[0mself\u001b[0m\u001b[0;34m.\u001b[0m\u001b[0mprojections_\u001b[0m\u001b[0;34m)\u001b[0m\u001b[0;34m\u001b[0m\u001b[0;34m\u001b[0m\u001b[0m\n\u001b[0m\u001b[1;32m    144\u001b[0m         \u001b[0;32mif\u001b[0m \u001b[0mself\u001b[0m\u001b[0;34m.\u001b[0m\u001b[0mnormalization\u001b[0m\u001b[0;34m:\u001b[0m\u001b[0;34m\u001b[0m\u001b[0;34m\u001b[0m\u001b[0m\n\u001b[1;32m    145\u001b[0m             \u001b[0mP_norms\u001b[0m \u001b[0;34m=\u001b[0m \u001b[0;34m[\u001b[0m\u001b[0mutils\u001b[0m\u001b[0;34m.\u001b[0m\u001b[0mrobust_sqrt\u001b[0m\u001b[0;34m(\u001b[0m\u001b[0mutils\u001b[0m\u001b[0;34m.\u001b[0m\u001b[0msquared_norm\u001b[0m\u001b[0;34m(\u001b[0m\u001b[0mp\u001b[0m\u001b[0;34m,\u001b[0m \u001b[0maxis\u001b[0m\u001b[0;34m=\u001b[0m\u001b[0;34m-\u001b[0m\u001b[0;36m1\u001b[0m\u001b[0;34m)\u001b[0m\u001b[0;34m)\u001b[0m \u001b[0;32mfor\u001b[0m \u001b[0mp\u001b[0m \u001b[0;32min\u001b[0m \u001b[0mP\u001b[0m\u001b[0;34m]\u001b[0m\u001b[0;34m\u001b[0m\u001b[0;34m\u001b[0m\u001b[0m\n",
      "\u001b[0;32m~/stage/kernel/ksig/algorithms.py\u001b[0m in \u001b[0;36msignature_kern_low_rank\u001b[0;34m(U, n_levels, order, difference, return_levels, projections)\u001b[0m\n\u001b[1;32m    135\u001b[0m         \u001b[0;32mreturn\u001b[0m \u001b[0msignature_kern_first_order_low_rank\u001b[0m\u001b[0;34m(\u001b[0m\u001b[0mU\u001b[0m\u001b[0;34m,\u001b[0m \u001b[0mn_levels\u001b[0m\u001b[0;34m,\u001b[0m \u001b[0mdifference\u001b[0m\u001b[0;34m=\u001b[0m\u001b[0mdifference\u001b[0m\u001b[0;34m,\u001b[0m \u001b[0mreturn_levels\u001b[0m\u001b[0;34m=\u001b[0m\u001b[0mreturn_levels\u001b[0m\u001b[0;34m,\u001b[0m \u001b[0mprojections\u001b[0m\u001b[0;34m=\u001b[0m\u001b[0mprojections\u001b[0m\u001b[0;34m)\u001b[0m\u001b[0;34m\u001b[0m\u001b[0;34m\u001b[0m\u001b[0m\n\u001b[1;32m    136\u001b[0m     \u001b[0;32melse\u001b[0m\u001b[0;34m:\u001b[0m\u001b[0;34m\u001b[0m\u001b[0;34m\u001b[0m\u001b[0m\n\u001b[0;32m--> 137\u001b[0;31m         \u001b[0;32mreturn\u001b[0m \u001b[0msignature_kern_higher_order_low_rank\u001b[0m\u001b[0;34m(\u001b[0m\u001b[0mU\u001b[0m\u001b[0;34m,\u001b[0m \u001b[0mn_levels\u001b[0m\u001b[0;34m,\u001b[0m \u001b[0morder\u001b[0m\u001b[0;34m=\u001b[0m\u001b[0morder\u001b[0m\u001b[0;34m,\u001b[0m \u001b[0mdifference\u001b[0m\u001b[0;34m=\u001b[0m\u001b[0mdifference\u001b[0m\u001b[0;34m,\u001b[0m \u001b[0mreturn_levels\u001b[0m\u001b[0;34m=\u001b[0m\u001b[0mreturn_levels\u001b[0m\u001b[0;34m,\u001b[0m \u001b[0mprojections\u001b[0m\u001b[0;34m=\u001b[0m\u001b[0mprojections\u001b[0m\u001b[0;34m)\u001b[0m\u001b[0;34m\u001b[0m\u001b[0;34m\u001b[0m\u001b[0m\n\u001b[0m\u001b[1;32m    138\u001b[0m \u001b[0;34m\u001b[0m\u001b[0m\n\u001b[1;32m    139\u001b[0m \u001b[0;31m# ----------------------------------------------------------------------------------------------------------------------------------------------------------------\u001b[0m\u001b[0;34m\u001b[0m\u001b[0;34m\u001b[0m\u001b[0;34m\u001b[0m\u001b[0m\n",
      "\u001b[0;32m~/stage/kernel/ksig/algorithms.py\u001b[0m in \u001b[0;36msignature_kern_higher_order_low_rank\u001b[0;34m(U, n_levels, order, difference, return_levels, projections)\u001b[0m\n\u001b[1;32m    196\u001b[0m         \u001b[0md\u001b[0m \u001b[0;34m=\u001b[0m \u001b[0mmin\u001b[0m\u001b[0;34m(\u001b[0m\u001b[0mi\u001b[0m\u001b[0;34m+\u001b[0m\u001b[0;36m1\u001b[0m\u001b[0;34m,\u001b[0m \u001b[0morder\u001b[0m\u001b[0;34m)\u001b[0m\u001b[0;34m\u001b[0m\u001b[0;34m\u001b[0m\u001b[0m\n\u001b[1;32m    197\u001b[0m         \u001b[0mn_components\u001b[0m \u001b[0;34m=\u001b[0m \u001b[0mprojections\u001b[0m\u001b[0;34m[\u001b[0m\u001b[0mi\u001b[0m\u001b[0;34m]\u001b[0m\u001b[0;34m.\u001b[0m\u001b[0mn_components_\u001b[0m \u001b[0;32mif\u001b[0m \u001b[0mprojections\u001b[0m \u001b[0;32mis\u001b[0m \u001b[0;32mnot\u001b[0m \u001b[0;32mNone\u001b[0m \u001b[0;32melse\u001b[0m \u001b[0mn_d\u001b[0m\u001b[0;34m**\u001b[0m\u001b[0;34m(\u001b[0m\u001b[0mi\u001b[0m\u001b[0;34m+\u001b[0m\u001b[0;36m1\u001b[0m\u001b[0;34m)\u001b[0m\u001b[0;34m\u001b[0m\u001b[0;34m\u001b[0m\u001b[0m\n\u001b[0;32m--> 198\u001b[0;31m         \u001b[0mR_next\u001b[0m \u001b[0;34m=\u001b[0m \u001b[0mcp\u001b[0m\u001b[0;34m.\u001b[0m\u001b[0mempty\u001b[0m\u001b[0;34m(\u001b[0m\u001b[0;34m(\u001b[0m\u001b[0md\u001b[0m\u001b[0;34m,\u001b[0m \u001b[0mn_X\u001b[0m\u001b[0;34m,\u001b[0m \u001b[0ml_X\u001b[0m\u001b[0;34m,\u001b[0m \u001b[0mn_components\u001b[0m\u001b[0;34m)\u001b[0m\u001b[0;34m)\u001b[0m\u001b[0;34m\u001b[0m\u001b[0;34m\u001b[0m\u001b[0m\n\u001b[0m\u001b[1;32m    199\u001b[0m \u001b[0;34m\u001b[0m\u001b[0m\n\u001b[1;32m    200\u001b[0m         \u001b[0mQ\u001b[0m \u001b[0;34m=\u001b[0m \u001b[0mmulti_cumsum\u001b[0m\u001b[0;34m(\u001b[0m\u001b[0mcp\u001b[0m\u001b[0;34m.\u001b[0m\u001b[0msum\u001b[0m\u001b[0;34m(\u001b[0m\u001b[0mR\u001b[0m\u001b[0;34m,\u001b[0m \u001b[0maxis\u001b[0m\u001b[0;34m=\u001b[0m\u001b[0;36m0\u001b[0m\u001b[0;34m)\u001b[0m\u001b[0;34m,\u001b[0m \u001b[0maxis\u001b[0m\u001b[0;34m=\u001b[0m\u001b[0;36m1\u001b[0m\u001b[0;34m,\u001b[0m \u001b[0mexclusive\u001b[0m\u001b[0;34m=\u001b[0m\u001b[0;32mTrue\u001b[0m\u001b[0;34m)\u001b[0m\u001b[0;34m\u001b[0m\u001b[0;34m\u001b[0m\u001b[0m\n",
      "\u001b[0;32m~/.local/lib/python3.9/site-packages/cupy/_creation/basic.py\u001b[0m in \u001b[0;36mempty\u001b[0;34m(shape, dtype, order)\u001b[0m\n\u001b[1;32m     20\u001b[0m \u001b[0;34m\u001b[0m\u001b[0m\n\u001b[1;32m     21\u001b[0m     \"\"\"\n\u001b[0;32m---> 22\u001b[0;31m     \u001b[0;32mreturn\u001b[0m \u001b[0mcupy\u001b[0m\u001b[0;34m.\u001b[0m\u001b[0mndarray\u001b[0m\u001b[0;34m(\u001b[0m\u001b[0mshape\u001b[0m\u001b[0;34m,\u001b[0m \u001b[0mdtype\u001b[0m\u001b[0;34m,\u001b[0m \u001b[0morder\u001b[0m\u001b[0;34m=\u001b[0m\u001b[0morder\u001b[0m\u001b[0;34m)\u001b[0m\u001b[0;34m\u001b[0m\u001b[0;34m\u001b[0m\u001b[0m\n\u001b[0m\u001b[1;32m     23\u001b[0m \u001b[0;34m\u001b[0m\u001b[0m\n\u001b[1;32m     24\u001b[0m \u001b[0;34m\u001b[0m\u001b[0m\n",
      "\u001b[0;32mcupy/_core/core.pyx\u001b[0m in \u001b[0;36mcupy._core.core.ndarray.__init__\u001b[0;34m()\u001b[0m\n",
      "\u001b[0;32mcupy/cuda/memory.pyx\u001b[0m in \u001b[0;36mcupy.cuda.memory.alloc\u001b[0;34m()\u001b[0m\n",
      "\u001b[0;32mcupy/cuda/memory.pyx\u001b[0m in \u001b[0;36mcupy.cuda.memory.MemoryPool.malloc\u001b[0;34m()\u001b[0m\n",
      "\u001b[0;32mcupy/cuda/memory.pyx\u001b[0m in \u001b[0;36mcupy.cuda.memory.MemoryPool.malloc\u001b[0;34m()\u001b[0m\n",
      "\u001b[0;32mcupy/cuda/memory.pyx\u001b[0m in \u001b[0;36mcupy.cuda.memory.SingleDeviceMemoryPool.malloc\u001b[0;34m()\u001b[0m\n",
      "\u001b[0;32mcupy/cuda/memory.pyx\u001b[0m in \u001b[0;36mcupy.cuda.memory.SingleDeviceMemoryPool._malloc\u001b[0;34m()\u001b[0m\n",
      "\u001b[0;32mcupy/cuda/memory.pyx\u001b[0m in \u001b[0;36mcupy.cuda.memory.SingleDeviceMemoryPool._try_malloc\u001b[0;34m()\u001b[0m\n",
      "\u001b[0;31mOutOfMemoryError\u001b[0m: Out of memory allocating 1,787,075,584 bytes (allocated so far: 2,593,206,784 bytes)."
     ]
    }
   ],
   "source": [
    "clf = SVC(C=1., kernel='precomputed')\n",
    "clf.fit(K_XX, y_train)\n",
    "kernel_test = lr_sig_kernel(X_test, X_train)\n",
    "y_pred = clf.predict(kernel_test)\n",
    "acc = ( ((y_pred == y_test).sum()/len(y_pred)) )\n",
    "acc"
   ]
  },
  {
   "cell_type": "code",
   "execution_count": null,
   "id": "entitled-bangladesh",
   "metadata": {},
   "outputs": [],
   "source": [
    "clf = SVC(C=10., kernel='precomputed')\n",
    "clf.fit(K_ll_XX, y_train)\n",
    "kernel_test = lr_sig_kernel_ll(X_ll_test, X_ll_train)\n",
    "y_pred = clf.predict(kernel_test)\n",
    "acc = ( ((y_pred == y_test).sum()/len(y_pred)) )\n",
    "acc"
   ]
  },
  {
   "cell_type": "markdown",
   "id": "associate-memorial",
   "metadata": {},
   "source": [
    "# Gridsearch"
   ]
  },
  {
   "cell_type": "code",
   "execution_count": null,
   "id": "vital-antenna",
   "metadata": {
    "scrolled": true
   },
   "outputs": [],
   "source": [
    "C = [0.01, 0.1, 1., 10., 100.]\n",
    "sigma = [0.01, 0.1, 1., 10., 100.]\n",
    "lengthscale = [0.01, 0.1, 1., 10., 100.]\n",
    "\n",
    "accuracies = np.zeros((len(sigma), len(lengthscale), len(C)))\n",
    "\n",
    "for s in range(3, len(sigma)):\n",
    "    for l in range(len(lengthscale)):\n",
    "        start_time = time.time()\n",
    "\n",
    "        static_kernel = ksig.static.kernels.RBFKernel(sigma = sigma[s], lengthscale = lengthscale[l])\n",
    "        proj = ksig.projections.CountSketchRandomProjection(n_components=n_components)\n",
    "        static_feat = ksig.static.features.NystroemFeatures(static_kernel, n_components=n_components)\n",
    "\n",
    "        lr_sig_kernel = ksig.kernels.LowRankSignatureKernel(order=n_order, n_levels=n_levels, static_features=static_feat, sigma=1.)\n",
    "        lr_sig_kernel.fit(X_train)\n",
    "        K_XX = lr_sig_kernel(X_train)\n",
    "        print(\"K_XX took : \")\n",
    "        print(time.time() - start_time)\n",
    "        for c in range(len(C)):\n",
    "            start_time = time.time()\n",
    "            clf = SVC(C=C[c], kernel='precomputed')\n",
    "            clf.fit(K_XX, y_train)\n",
    "            kernel_test = lr_sig_kernel(X_test, X_train)\n",
    "            y_pred = clf.predict(kernel_test)\n",
    "            acc = ( ((y_pred == y_test).sum()/len(y_pred)) )\n",
    "            accuracies[s][l][c] = acc\n",
    "            print(\"K_XX took : \")\n",
    "            print(time.time() - start_time)\n",
    "            print(\" acc : \")\n",
    "            print(acc)"
   ]
  },
  {
   "cell_type": "code",
   "execution_count": null,
   "id": "considerable-medium",
   "metadata": {},
   "outputs": [],
   "source": [
    "accuracies"
   ]
  },
  {
   "cell_type": "code",
   "execution_count": null,
   "id": "together-walker",
   "metadata": {},
   "outputs": [],
   "source": [
    "accuracies[3]"
   ]
  }
 ],
 "metadata": {
  "kernelspec": {
   "display_name": "Python 3",
   "language": "python",
   "name": "python3"
  },
  "language_info": {
   "codemirror_mode": {
    "name": "ipython",
    "version": 3
   },
   "file_extension": ".py",
   "mimetype": "text/x-python",
   "name": "python",
   "nbconvert_exporter": "python",
   "pygments_lexer": "ipython3",
   "version": "3.9.2"
  }
 },
 "nbformat": 4,
 "nbformat_minor": 5
}
