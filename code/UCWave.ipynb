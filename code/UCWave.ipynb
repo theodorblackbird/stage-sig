{
 "cells": [
  {
   "cell_type": "code",
   "execution_count": 1,
   "id": "therapeutic-moscow",
   "metadata": {},
   "outputs": [],
   "source": [
    "import ksig_cpu as ksig\n",
    "import pandas as pd\n",
    "import numpy as np\n",
    "import matplotlib.pyplot as plt\n",
    "from sklearn.preprocessing import StandardScaler, MinMaxScaler"
   ]
  },
  {
   "cell_type": "code",
   "execution_count": 2,
   "id": "funky-liberty",
   "metadata": {},
   "outputs": [],
   "source": [
    "from scipy.io import arff"
   ]
  },
  {
   "cell_type": "code",
   "execution_count": 3,
   "id": "invalid-stevens",
   "metadata": {},
   "outputs": [],
   "source": [
    "data_train = arff.loadarff(open('ucwavegesture/UWaveGestureLibraryAll_TRAIN.arff'))\n",
    "data_test = arff.loadarff(open('ucwavegesture/UWaveGestureLibraryAll_TEST.arff'))\n"
   ]
  },
  {
   "cell_type": "code",
   "execution_count": 4,
   "id": "numerical-light",
   "metadata": {},
   "outputs": [],
   "source": [
    "df_train = pd.DataFrame(data_train[0]).to_numpy(dtype=float)\n",
    "df_test = pd.DataFrame(data_test[0]).to_numpy(dtype=float)\n",
    "\n",
    "X_train = df_train[:, :945]\n",
    "y_train  = df_train[:, 945]\n",
    "\n",
    "X_test = df_test[:, :945]\n",
    "y_test  = df_test[:, 945]"
   ]
  },
  {
   "cell_type": "code",
   "execution_count": 5,
   "id": "settled-omaha",
   "metadata": {},
   "outputs": [],
   "source": [
    "X_train = X_train.reshape(len(X_train), 3, -1).transpose(0,2,1)\n",
    "X_test = X_test.reshape(len(X_test), 3, -1).transpose(0,2,1)\n",
    "\n",
    "scaler_x = StandardScaler()\n",
    "scaler_y = StandardScaler()\n",
    "scaler_z = StandardScaler()\n",
    "\n",
    "X_train[:,:,0] = scaler_x.fit_transform(X_train[:,:,0])\n",
    "X_train[:,:,1] = scaler_y.fit_transform(X_train[:,:,1])\n",
    "X_train[:,:,2] = scaler_z.fit_transform(X_train[:,:,2])\n",
    "\n",
    "X_test[:,:,0] = scaler_x.transform(X_test[:,:,0])\n",
    "X_test[:,:,1] = scaler_y.transform(X_test[:,:,1])\n",
    "X_test[:,:,2] = scaler_z.transform(X_test[:,:,2])\n",
    "\n",
    "X_test = X_test[:700]"
   ]
  },
  {
   "cell_type": "code",
   "execution_count": 6,
   "id": "selective-bookmark",
   "metadata": {
    "scrolled": true
   },
   "outputs": [
    {
     "data": {
      "text/plain": [
       "(896, 315, 3)"
      ]
     },
     "execution_count": 6,
     "metadata": {},
     "output_type": "execute_result"
    }
   ],
   "source": [
    "X_train.shape"
   ]
  },
  {
   "cell_type": "code",
   "execution_count": 7,
   "id": "medieval-shape",
   "metadata": {},
   "outputs": [],
   "source": [
    "n_levels = 3\n",
    "n_order = 1\n",
    "n_components = 8"
   ]
  },
  {
   "cell_type": "code",
   "execution_count": 8,
   "id": "hawaiian-helena",
   "metadata": {},
   "outputs": [
    {
     "data": {
      "text/plain": [
       "LowRankSignatureKernel(n_levels=3, order=1,\n",
       "                       static_features=NystroemFeatures(n_components=15,\n",
       "                                                        static_kernel=RBFKernel()))"
      ]
     },
     "execution_count": 8,
     "metadata": {},
     "output_type": "execute_result"
    }
   ],
   "source": [
    "static_kernel = ksig.static.kernels.RBFKernel()\n",
    "proj = ksig.projections.CountSketchRandomProjection(n_components=8)\n",
    "static_feat = ksig.static.features.NystroemFeatures(static_kernel, n_components=15)\n",
    "\n",
    "lr_sig_kernel = ksig.kernels.LowRankSignatureKernel(order=n_order, n_levels=n_levels, static_features=static_feat)\n",
    "lr_sig_kernel.fit(X_train)"
   ]
  },
  {
   "cell_type": "code",
   "execution_count": 9,
   "id": "atomic-pointer",
   "metadata": {},
   "outputs": [],
   "source": [
    "K_XX = lr_sig_kernel(X_train)"
   ]
  },
  {
   "cell_type": "code",
   "execution_count": 10,
   "id": "excessive-disorder",
   "metadata": {},
   "outputs": [],
   "source": [
    "from sklearn.svm import SVC"
   ]
  },
  {
   "cell_type": "code",
   "execution_count": 11,
   "id": "stuffed-jonathan",
   "metadata": {},
   "outputs": [],
   "source": [
    "clf = SVC(C=1., kernel='precomputed')\n",
    "clf.fit(K_XX, y_train)\n",
    "kernel_test = lr_sig_kernel(X_test, X_train)\n",
    "y_pred = clf.predict(kernel_test)"
   ]
  },
  {
   "cell_type": "code",
   "execution_count": 12,
   "id": "dominican-liberia",
   "metadata": {},
   "outputs": [],
   "source": [
    "acc = ( ((y_pred == y_test[:700]).sum()/len(y_pred)) )"
   ]
  },
  {
   "cell_type": "code",
   "execution_count": 13,
   "id": "abstract-integer",
   "metadata": {},
   "outputs": [
    {
     "data": {
      "text/plain": [
       "0.8957142857142857"
      ]
     },
     "execution_count": 13,
     "metadata": {},
     "output_type": "execute_result"
    }
   ],
   "source": [
    "acc"
   ]
  },
  {
   "cell_type": "code",
   "execution_count": null,
   "id": "greater-glossary",
   "metadata": {},
   "outputs": [],
   "source": [
    "acc = []\n",
    "\n",
    "for theta in [0.1, 1., 10., 100.] :\n",
    "    for gamma in [0.1, 1., 10., 100.] :\n",
    "        static_kernel = ksig.static.kernels.RBFKernel()\n",
    "        proj = ksig.projections.CountSketchRandomProjection(n_components=8)\n",
    "        static_feat = ksig.static.features.NystroemFeatures(static_kernel, n_components=15)\n",
    "\n",
    "        lr_sig_kernel = ksig.kernels.LowRankSignatureKernel(order=n_order, n_levels=n_levels, static_features=static_feat)\n",
    "        lr_sig_kernel.fit(X_train)\n",
    "        for C in [0.1, 1., 10., 100.] :\n",
    "            K_XX = lr_sig_kernel(X_train)\n",
    "            clf = SVC(C=1., kernel='precomputed')\n",
    "            clf.fit(K_XX, y_train)\n",
    "            kernel_test = lr_sig_kernel(X_test, X_train)\n",
    "            y_pred = clf.predict(kernel_test)\n",
    "            a = ( ((y_pred == y_test[:700]).sum()/len(y_pred)) )\n",
    "            acc.append(a)\n",
    "            "
   ]
  }
 ],
 "metadata": {
  "kernelspec": {
   "display_name": "Python 3",
   "language": "python",
   "name": "python3"
  },
  "language_info": {
   "codemirror_mode": {
    "name": "ipython",
    "version": 3
   },
   "file_extension": ".py",
   "mimetype": "text/x-python",
   "name": "python",
   "nbconvert_exporter": "python",
   "pygments_lexer": "ipython3",
   "version": "3.9.2"
  }
 },
 "nbformat": 4,
 "nbformat_minor": 5
}
